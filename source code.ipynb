{
  "nbformat": 4,
  "nbformat_minor": 0,
  "metadata": {
    "colab": {
      "provenance": [],
      "authorship_tag": "ABX9TyP2mIHmXOkDu//qqwuc9lzd",
      "include_colab_link": true
    },
    "kernelspec": {
      "name": "python3",
      "display_name": "Python 3"
    },
    "language_info": {
      "name": "python"
    }
  },
  "cells": [
    {
      "cell_type": "markdown",
      "metadata": {
        "id": "view-in-github",
        "colab_type": "text"
      },
      "source": [
        "<a href=\"https://colab.research.google.com/github/bridgetmanu/Biodiversity/blob/main/source%20code.ipynb\" target=\"_parent\"><img src=\"https://colab.research.google.com/assets/colab-badge.svg\" alt=\"Open In Colab\"/></a>"
      ]
    },
    {
      "cell_type": "markdown",
      "source": [
        "Read file and familiarize with the content"
      ],
      "metadata": {
        "id": "I0txlo3dZ66K"
      }
    },
    {
      "cell_type": "code",
      "execution_count": 2,
      "metadata": {
        "id": "MXRNsAv7C6pn",
        "outputId": "395de683-9dbc-4b98-dd2b-bcf8f882c085",
        "colab": {
          "base_uri": "https://localhost:8080/"
        }
      },
      "outputs": [
        {
          "output_type": "stream",
          "name": "stdout",
          "text": [
            "            scientific_name                            park_name  observations\n",
            "0        Vicia benghalensis  Great Smoky Mountains National Park            68\n",
            "1            Neovison vison  Great Smoky Mountains National Park            77\n",
            "2         Prunus subcordata               Yosemite National Park           138\n",
            "3      Abutilon theophrasti                  Bryce National Park            84\n",
            "4  Githopsis specularioides  Great Smoky Mountains National Park            85\n",
            "  category                scientific_name  \\\n",
            "0   Mammal  Clethrionomys gapperi gapperi   \n",
            "1   Mammal                      Bos bison   \n",
            "2   Mammal                     Bos taurus   \n",
            "3   Mammal                     Ovis aries   \n",
            "4   Mammal                 Cervus elaphus   \n",
            "\n",
            "                                        common_names conservation_status  \n",
            "0                           Gapper's Red-Backed Vole                 NaN  \n",
            "1                              American Bison, Bison                 NaN  \n",
            "2  Aurochs, Aurochs, Domestic Cattle (Feral), Dom...                 NaN  \n",
            "3  Domestic Sheep, Mouflon, Red Sheep, Sheep (Feral)                 NaN  \n",
            "4                                      Wapiti Or Elk                 NaN  \n"
          ]
        }
      ],
      "source": [
        "import pandas as pd\n",
        "#import numpy as np\n",
        "#import matplotlib.pyplot as plt\n",
        "\n",
        "data1 = pd.read_csv(\"/home/observations.csv\")\n",
        "data2 = pd.read_csv(\"/home/species_info.csv\")\n",
        "\n",
        "view1 = data1.head()\n",
        "view2 = data2.head()\n",
        "print(view1)\n",
        "print(view2)"
      ]
    }
  ]
}